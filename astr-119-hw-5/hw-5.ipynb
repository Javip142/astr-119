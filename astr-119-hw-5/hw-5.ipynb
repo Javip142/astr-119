{
 "cells": [
  {
   "cell_type": "markdown",
   "id": "f73cbcfe",
   "metadata": {},
   "source": [
    "## Numerical Integration"
   ]
  },
  {
   "cell_type": "code",
   "execution_count": null,
   "id": "73a52106",
   "metadata": {},
   "outputs": [],
   "source": [
    "%matplotlib inline \n",
    "import numpy as np \n",
    "import matplotlib.pyplot as plt\n",
    "from math import e "
   ]
  },
  {
   "cell_type": "markdown",
   "id": "aae2d647",
   "metadata": {},
   "source": [
    "## Define the function we want to integrate "
   ]
  },
  {
   "cell_type": "code",
   "execution_count": null,
   "id": "c7136985",
   "metadata": {},
   "outputs": [],
   "source": [
    "def func(x):  \n",
    "    a = e**(-2*x)\n",
    "    b = np.cos(10*x)\n",
    "    return a*b"
   ]
  },
  {
   "cell_type": "markdown",
   "id": "a93a442b",
   "metadata": {},
   "source": [
    "## Defined integral"
   ]
  },
  {
   "cell_type": "code",
   "execution_count": null,
   "id": "cc620428",
   "metadata": {},
   "outputs": [],
   "source": [
    "def func_integral(x):\n",
    "    a = e**(-2*x)\n",
    "    b = np.cos(10*x)\n",
    "    return 5*a*np.sin(10*x)/52 - a*b/52 #completed integral"
   ]
  },
  {
   "cell_type": "markdown",
   "id": "51938765",
   "metadata": {},
   "source": [
    "## Trapezoid Method"
   ]
  },
  {
   "cell_type": "code",
   "execution_count": null,
   "id": "6d97beaf",
   "metadata": {},
   "outputs": [],
   "source": [
    "def trapezoid_core(f,x,h):\n",
    "    return 0.5*h*(f(x+h)+f(x))"
   ]
  },
  {
   "cell_type": "code",
   "execution_count": null,
   "id": "c8c647e8",
   "metadata": {},
   "outputs": [],
   "source": [
    "def trapezoid_method (f, a, b, N):\n",
    "    # f == f is for function to integrate!\n",
    "    # a == a is for a lower limit of integration! \n",
    "    # b == b is for best upper limit of integration! \n",
    "    # N == is Number of function evluations to use!\n",
    "    \n",
    "    #define x values to perform trapezoid rule \n",
    "    x = np.linspace(a, b, N) \n",
    "    h = x[1]-x[0]\n",
    "    \n",
    "    #define the value of the integral \n",
    "    Fint = 0.0 \n",
    "    \n",
    "    #perform the integral using the trapezoid method \n",
    "    for i in range(0, len(x)-1,1):\n",
    "        Fint += trapezoid_core(f,x[i],h) \n",
    "    \n",
    "    #return the answer \n",
    "    return Fint "
   ]
  },
  {
   "cell_type": "markdown",
   "id": "336c9320",
   "metadata": {},
   "source": [
    "## Simpson Method"
   ]
  },
  {
   "cell_type": "code",
   "execution_count": null,
   "id": "b8637403",
   "metadata": {},
   "outputs": [],
   "source": [
    "def simpson_core(f,x,h):\n",
    "    return h*(f(x)+4*f(x+h)+f(x+2*h))/3."
   ]
  },
  {
   "cell_type": "code",
   "execution_count": null,
   "id": "5fa2bff6",
   "metadata": {},
   "outputs": [],
   "source": [
    "def simpsons_method(f,a,b,N):\n",
    "    #f == fn to integrate \n",
    "    #a == lower limit of integration \n",
    "    #b == upper limit of integration \n",
    "    #N == number of function evaluations to use \n",
    "    \n",
    "\n",
    "    #define x values to perform simpsons rule\n",
    "    x = np.linspace(a,b,N)\n",
    "    h = x[1]-x[0]\n",
    "    \n",
    "    #define the value of the integral \n",
    "    Fint = 0.0 #I think I am missing a portion of code for the iterations\n",
    "    \n",
    "    #perform the integration using simpsons method \n",
    "    for i in range(0,len(x)-2,2):\n",
    "        Fint += simpson_core(f,x[i],h)\n",
    "    \n",
    "    #apply simpsons rule over the last interval\n",
    "    #if N is even\n",
    "    if((N%2)==0):\n",
    "        Fint += simpson_core(f,x[-2],0.5*h)\n",
    "    \n",
    "    return Fint"
   ]
  },
  {
   "cell_type": "markdown",
   "id": "082d3ce7",
   "metadata": {},
   "source": [
    "## Romberg Method"
   ]
  },
  {
   "cell_type": "code",
   "execution_count": null,
   "id": "e30ca589",
   "metadata": {},
   "outputs": [],
   "source": [
    "def romberg_core(f,a,b,i):\n",
    "    \n",
    "    #we need the difference b-a\n",
    "    h = b-a\n",
    "    \n",
    "    #and the increment between the new function evaluations\n",
    "    dh = h/2.**(i)\n",
    "    \n",
    "    #cofactor K \n",
    "    K = h/2.**(i+1)\n",
    "    \n",
    "    #and func evals \n",
    "    M = 0.0 \n",
    "    for j in range(2**i):\n",
    "        M += f(a+0.5*dh + j*dh)\n",
    "        \n",
    "    #return the answer \n",
    "    return K*M "
   ]
  },
  {
   "cell_type": "code",
   "execution_count": null,
   "id": "6da518fb",
   "metadata": {},
   "outputs": [],
   "source": [
    "def romberg_integration(f,a,b,tol):\n",
    "    \n",
    "    #define an iteration variable i\n",
    "    i = 0\n",
    "    \n",
    "    #max number of iterations \n",
    "    imax = 1000 \n",
    "    \n",
    "    #define error estimate, set it to a large value \n",
    "    delta = 100.0*np.fabs(tol)\n",
    "    \n",
    "    #set an array of integral answers and make it a floaty float number \n",
    "    I = np.zeros(imax, dtype = float)\n",
    "    \n",
    "    #get the zero romberg iteration \n",
    "    I[0] = 0.5*(b-a)*(f(a)+f(b))\n",
    "    \n",
    "    #iterate by 1 \n",
    "    i+=1\n",
    "    \n",
    "    while(delta>tol):\n",
    "        \n",
    "        #find this romberg iteration \n",
    "        I[i] = 0.5*I[i-1] + romberg_core(f,a,b,i)\n",
    "        \n",
    "        #compute the new fractional error estimate \n",
    "        delta = np.fabs ((I[i]-I[i-1])/I[i])\n",
    "        \n",
    "        print(i, I[i],I[i-1],delta)\n",
    "        \n",
    "        if(delta>tol):\n",
    "            \n",
    "            #iterate \n",
    "            i+=1\n",
    "            \n",
    "            #if we've reached the max iterations \n",
    "            if(i>imax):\n",
    "                print(\"Max iterations reached.\")\n",
    "                raise StopIteration('Stopping iterations after', i)\n",
    "    #return the answer \n",
    "    return I[i]\n",
    "            "
   ]
  },
  {
   "cell_type": "markdown",
   "id": "ad02b931",
   "metadata": {},
   "source": [
    "## Checking the Integration"
   ]
  },
  {
   "cell_type": "code",
   "execution_count": null,
   "id": "1ed89b07",
   "metadata": {},
   "outputs": [],
   "source": [
    "Answer = func_integral(np.pi)-func_integral(0)\n",
    "print(Answer)\n",
    "print(\"Trapezoid\")\n",
    "print(trapezoid_method(func,0,np.pi,10))\n",
    "print(\"Simpson's Method\")\n",
    "print(simpsons_method(func,0,np.pi,10))\n",
    "print(\"Romberg\")\n",
    "tolerance = 1.0e-6\n",
    "RI = romberg_integration(func,0,1,tolerance)\n",
    "print(RI, (RI-Answer)/Answer, tolerance)"
   ]
  },
  {
   "cell_type": "markdown",
   "id": "724dc013",
   "metadata": {},
   "source": [
    "### Romberg Method Iterations: 24\n",
    "### Simpsons Method Iterations:\n",
    "### Trapezoid Method Iterations:"
   ]
  },
  {
   "cell_type": "code",
   "execution_count": null,
   "id": "2cb04d76",
   "metadata": {},
   "outputs": [],
   "source": [
    "### I tried completeing the iterations for Simspsons and the trapezoid method but I \n",
    "### couldn't get it to go through\n",
    "### This is the line of code I tride to use for it\n",
    "# TR = trapezoid_method(func,0,1,tolerance)\n",
    "# print(TR, (TR-Answer)/Answer, tolerance)\n",
    "# SM = simpsons_method(func,0,1,tolerance)\n",
    "# print(SM, (SM-Answer)/Answer,tolerance)\n",
    "# would the coupled ODE method have helped?"
   ]
  },
  {
   "cell_type": "code",
   "execution_count": null,
   "id": "ae3e70b9",
   "metadata": {},
   "outputs": [],
   "source": []
  }
 ],
 "metadata": {
  "kernelspec": {
   "display_name": "Python 3 (ipykernel)",
   "language": "python",
   "name": "python3"
  },
  "language_info": {
   "codemirror_mode": {
    "name": "ipython",
    "version": 3
   },
   "file_extension": ".py",
   "mimetype": "text/x-python",
   "name": "python",
   "nbconvert_exporter": "python",
   "pygments_lexer": "ipython3",
   "version": "3.10.0"
  }
 },
 "nbformat": 4,
 "nbformat_minor": 5
}
