{
 "cells": [
  {
   "cell_type": "markdown",
   "id": "fdd4fe6d",
   "metadata": {},
   "source": [
    "### Hw #3"
   ]
  },
  {
   "cell_type": "code",
   "execution_count": null,
   "id": "17d1cdf5",
   "metadata": {},
   "outputs": [],
   "source": [
    "%matplotlib inline\n",
    "import numpy as np\n",
    "import matplotlib.pyplot as plt"
   ]
  },
  {
   "cell_type": "code",
   "execution_count": null,
   "id": "65901f26",
   "metadata": {},
   "outputs": [],
   "source": [
    "x = np.linspace(0,2*np.pi,1000) #linspace creates numerical sequences\n",
    "y1 = 5.5*np.cos(2*x) + 5.5\n",
    "y2 = 0.02*np.exp(x)\n",
    "y3 = 25*np.square(x)+0.1*np.sin(10*x)\n",
    "plt.plot(x,y1) #was confused on the different sets of y\n",
    "plt.plot(x,y2) #but when I made 3 differnt lines of plots\n",
    "plt.plot(x,y3) #it worked\n",
    "# now we can begin to plot the (x,y) labels\n",
    "plt.xlim(0,2*np.pi) \n",
    "plt.ylim(-1,10)\n",
    "plt.xlabel('Time in ASTR 119')\n",
    "plt.ylabel('Measures of Awesomeness') #finally done!!!\n",
    "plt.show()"
   ]
  },
  {
   "cell_type": "code",
   "execution_count": null,
   "id": "e12b4031",
   "metadata": {},
   "outputs": [],
   "source": []
  }
 ],
 "metadata": {
  "kernelspec": {
   "display_name": "Python 3 (ipykernel)",
   "language": "python",
   "name": "python3"
  },
  "language_info": {
   "codemirror_mode": {
    "name": "ipython",
    "version": 3
   },
   "file_extension": ".py",
   "mimetype": "text/x-python",
   "name": "python",
   "nbconvert_exporter": "python",
   "pygments_lexer": "ipython3",
   "version": "3.10.0"
  }
 },
 "nbformat": 4,
 "nbformat_minor": 5
}
