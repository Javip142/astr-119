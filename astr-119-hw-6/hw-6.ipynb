{
 "cells": [
  {
   "cell_type": "markdown",
   "id": "adbebf8b",
   "metadata": {},
   "source": [
    "## Importing the libraries"
   ]
  },
  {
   "cell_type": "code",
   "execution_count": null,
   "id": "fb2de745",
   "metadata": {},
   "outputs": [],
   "source": [
    "%matplotlib inline\n",
    "import matplotlib.pyplot as plt\n",
    "import numpy as np"
   ]
  },
  {
   "cell_type": "markdown",
   "id": "903d4edc",
   "metadata": {},
   "source": [
    "## Define our function "
   ]
  },
  {
   "cell_type": "code",
   "execution_count": null,
   "id": "c3738651",
   "metadata": {},
   "outputs": [],
   "source": [
    "def dfdx(x,f): \n",
    "    # so this is similar to the coupled derivatives method\n",
    "    \n",
    "    y = f[0] #set y as the first fn\n",
    "    z = f[1] #z becomes our second function for the second derivative \n",
    "    dydx = np.zeros_like(f) \n",
    "    dydx[0] = z #first derivative \n",
    "    dydx[1] = -1*y #second derivative\n",
    "    \n",
    "    return dydx"
   ]
  },
  {
   "cell_type": "markdown",
   "id": "511a0caf",
   "metadata": {},
   "source": [
    "## Define the cash karp core "
   ]
  },
  {
   "cell_type": "code",
   "execution_count": null,
   "id": "106a82b6",
   "metadata": {},
   "outputs": [],
   "source": [
    "def cash_karp_core_mv(x_i,y_i,nv,h,f):\n",
    "    \n",
    "    #define array\n",
    "    \n",
    "    ni = 7 \n",
    "    nj = 6\n",
    "    ci = np.zeros(ni)\n",
    "    aij = np.zeros((ni,nj))\n",
    "    bi = np.zeros(ni)\n",
    "    bis = np.zeros(ni)\n",
    "    \n",
    "    #Constants \n",
    "    \n",
    "    ci[2] = 1./5. \n",
    "    ci[3] = 3./10.\n",
    "    ci[4] = 3./5.\n",
    "    ci[5] = 1.\n",
    "    ci[6] = 7./8.\n",
    "    \n",
    "    aij[2,1] = 1./5\n",
    "    aij[3,1] = 3./40.\n",
    "    aij[4,1] = 3./10\n",
    "    aij[5,1] = -11./54.\n",
    "    aij[6,1] = 1631./55296.\n",
    "    \n",
    "    aij[3,2] = 9./40.\n",
    "    aij[4,2] = -9./10.\n",
    "    aij[5,2] = 5./2.\n",
    "    aij[6,2] = 175./512.\n",
    "    \n",
    "    aij[4,3] = 6./5.\n",
    "    aij[5,3] = -70./27.\n",
    "    aij[6,3] = 575./13824.\n",
    "    \n",
    "    aij[5,4] = 35./27.\n",
    "    aij[6,4] = 44275./110592.\n",
    "    \n",
    "    aij[6,5] = 253./4096.\n",
    "    \n",
    "    bi[1] = 37./378.\n",
    "    bi[2] = 0.\n",
    "    bi[3] = 250./621.\n",
    "    bi[4] = 125./594.\n",
    "    bi[5] = 0.0\n",
    "    bi[6] = 512./1771.\n",
    "    \n",
    "    bis[1] = 2825./27648.\n",
    "    bis[2] = 0.0\n",
    "    bis[3] = 18575./48384.\n",
    "    bis[4] = 13525./55296.\n",
    "    bis[5] = 277./14336.\n",
    "    bis[6] = 1./4.\n",
    "    \n",
    "    #Professor Brants method was incredibly better than my original iteration\n",
    "    #define the array ki\n",
    "    \n",
    "    ki = np.zeros((ni,nv))\n",
    "    \n",
    "    #Converting to Karp method \n",
    "    \n",
    "    for i in range(1,ni):\n",
    "        xn = x_i + ci[i]*h\n",
    "        \n",
    "        yn = y_i.copy()\n",
    "        for j in range(1,i):\n",
    "            yn += aij[i,j]*ki[j,:] #: this mean for all array iterations\n",
    "            \n",
    "        ki[i,:] = h*f(xn,yn) \n",
    "        \n",
    "    ynpo = y_i.copy() \n",
    "    ynpos = y_i.copy()\n",
    "        \n",
    "    for i in range(1,ni): \n",
    "        ynpo += bi[i]*ki[i,:]\n",
    "        ynpos += bis[i]*ki[i,:]\n",
    "        #print(i,ynpo[0],ynpos[0])\n",
    "        #print(i,ynpo[0],ynpos[0],bi[i]*ki[i,0],bis[i],*ki[i,0])\n",
    "     # gives the error       \n",
    "    Delta = np.fabs(ynpo-ynpos) #define the error\n",
    "        \n",
    "        \n",
    "    return ynpo, Delta"
   ]
  },
  {
   "cell_type": "code",
   "execution_count": null,
   "id": "224e10f3",
   "metadata": {},
   "outputs": [],
   "source": [
    "def cash_karp_mv_ad(dfdx,x_i,y_i,nv,h,tol):\n",
    "    \n",
    "    SAFETY = 0.9 #honestly not quite sure what this does or why 0.9 so need to find out\n",
    "    H_NEW_FAC = 2.0 #same here \n",
    "    \n",
    "    imax = 1000 #define max value of i \n",
    "    \n",
    "    i = 0 #define starting definition of i\n",
    "    \n",
    "    Delta = np.full(nv,2*tol) \n",
    "    \n",
    "    h_step = h\n",
    "    \n",
    "    while(Delta.max()/tol>1.0): #write the error code\n",
    "        y_ipo, Delta = cash_karp_core_mv(x_i,y_i,nv,h_step,dfdx)\n",
    "        if(Delta.max()/tol>1.0):\n",
    "            h_step *= SAFETY * (Delta.max()/tol)**(-0.25) #if error is too large, reduce the size of our step\n",
    "        if(i>=imax): #checking\n",
    "            print(\"Too many iterations\")\n",
    "            raise StopIteration(\"Ending after i = \", i)\n",
    "            \n",
    "        i += 1\n",
    "    #time for a bigger step\n",
    "    h_new = np.fmin(h_step*(Delta.max()/tol)**(-0.9), h_step*H_NEW_FAC)\n",
    "    \n",
    "    #returning the answers \n",
    "    return y_ipo, h_new, h_step"
   ]
  },
  {
   "cell_type": "code",
   "execution_count": null,
   "id": "a465764d",
   "metadata": {},
   "outputs": [],
   "source": [
    "def cash_karp_mv(dfdx,a,b,y_a,tol,verbose=False): #I had to look up verbose, but its just a term for producing logging output\n",
    "    \n",
    "    xi = a \n",
    "    yi = y_a.copy() #creates a copy of an existing list \n",
    "    \n",
    "    h = 1.0e-4*(b-a) #define h based on the equation \n",
    "    \n",
    "    imax = 1000\n",
    "    \n",
    "    i = 0\n",
    "    \n",
    "    nv = len(y_a) \n",
    "    \n",
    "    #our initial conditions\n",
    "    x = np.full(1,a)\n",
    "    y = np.full((1,nv), y_a)\n",
    "    \n",
    "    flag = 1\n",
    "    \n",
    "    while(flag):\n",
    "        \n",
    "        y_ipo, h_new, h_step = cash_karp_mv_ad(dfdx,xi,yi,nv,h,tol)\n",
    "        \n",
    "        h = h_new\n",
    "        \n",
    "        if(xi+h_step>b):\n",
    "            \n",
    "            h = b - xi\n",
    "            \n",
    "            y_ipo, h_new, h_step = cash_karp_mv_ad(dfdx,xi,yi,nv,h,tol)\n",
    "        \n",
    "            flag = 0\n",
    "        \n",
    "        xi += h_step\n",
    "        yi = y_ipo.copy()\n",
    "        \n",
    "        x = np.append(x,xi)\n",
    "        y_ipo = np.zeros((len(x),nv))\n",
    "        y_ipo[0:len(x)-1,:] = y[:]\n",
    "        y_ipo[-1,:] = yi[:]\n",
    "        del y\n",
    "        y = y_ipo\n",
    "        \n",
    "        if(i>=imax):\n",
    "            print(\"Maximum iterations reached.\")\n",
    "            raise StopIteration(\"Iteration number = \", i)\n",
    "            \n",
    "        i += 1\n",
    "            \n",
    "        if(verbose): #here's verbose again\n",
    "            s = \"i = %3d\\tx = %9.8f\\ty = %9.8f\\th = %9.8f\\tb = %9.8f\" % (i,xi,yi[0],h_step,b)\n",
    "            print(s)\n",
    "                \n",
    "        if(xi==b):\n",
    "            flag = 0\n",
    "                \n",
    "    return x, y"
   ]
  },
  {
   "cell_type": "markdown",
   "id": "5e0e65e6",
   "metadata": {},
   "source": [
    "## Graph Values"
   ]
  },
  {
   "cell_type": "code",
   "execution_count": null,
   "id": "173de6b9",
   "metadata": {
    "scrolled": true
   },
   "outputs": [],
   "source": [
    "a = 0.0 #a in our equation\n",
    "b = 2.0*np.pi #b in our equation\n",
    "y_0 = np.zeros(2)\n",
    "y_0[0] = 0.0\n",
    "y_0[1] = 1.0\n",
    "nv = 2\n",
    "\n",
    "tolerance = 1.0e-6\n",
    "x,y = cash_karp_mv(dfdx,a,b,y_0,tolerance,verbose=True) #cash karp method is insanely complicated"
   ]
  },
  {
   "cell_type": "markdown",
   "id": "a16ba3e4",
   "metadata": {},
   "source": [
    "## Plot Creation"
   ]
  },
  {
   "cell_type": "code",
   "execution_count": null,
   "id": "89473c55",
   "metadata": {},
   "outputs": [],
   "source": [
    "plt.plot(x,y[:,0],'o',label='y(x)')\n",
    "plt.plot(x,y[:,1],'o',label='z(x)')\n",
    "plt.plot(x,np.sin(x),label='sin(x)')\n",
    "plt.plot(x,np.cos(x),label='cos(x)')\n",
    "plt.xlim([0,2*np.pi])\n",
    "plt.ylim([-1.2,1.2])\n",
    "plt.legend(frameon=False)\n",
    "# finally an easy part, errors have exceeded our tolerance similarly like the one in CDE"
   ]
  },
  {
   "cell_type": "markdown",
   "id": "4fe9d74f",
   "metadata": {},
   "source": [
    "## Error"
   ]
  },
  {
   "cell_type": "code",
   "execution_count": null,
   "id": "d7e6453d",
   "metadata": {},
   "outputs": [],
   "source": [
    "plt.plot(x,y[:,0]-np.sin(x), label=\"y(x) Error\")\n",
    "plt.plot(x,y[:,1]-np.cos(x), label=\"z(x) Error\")\n",
    "plt.legend()"
   ]
  },
  {
   "cell_type": "markdown",
   "id": "34bcc745",
   "metadata": {},
   "source": [
    "## DONE!!!"
   ]
  },
  {
   "cell_type": "code",
   "execution_count": null,
   "id": "43184b45",
   "metadata": {},
   "outputs": [],
   "source": []
  }
 ],
 "metadata": {
  "kernelspec": {
   "display_name": "Python 3 (ipykernel)",
   "language": "python",
   "name": "python3"
  },
  "language_info": {
   "codemirror_mode": {
    "name": "ipython",
    "version": 3
   },
   "file_extension": ".py",
   "mimetype": "text/x-python",
   "name": "python",
   "nbconvert_exporter": "python",
   "pygments_lexer": "ipython3",
   "version": "3.10.0"
  }
 },
 "nbformat": 4,
 "nbformat_minor": 5
}
